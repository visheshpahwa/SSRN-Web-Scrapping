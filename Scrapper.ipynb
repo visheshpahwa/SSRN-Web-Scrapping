{
 "cells": [
  {
   "cell_type": "code",
   "execution_count": 3,
   "id": "c9924162",
   "metadata": {},
   "outputs": [],
   "source": [
    "import requests\n",
    "from ordered_set import OrderedSet\n",
    "from bs4 import BeautifulSoup\n",
    "from multiprocessing import Pool\n",
    "from multiprocessing import cpu_count\n",
    "import time\n",
    "import sys"
   ]
  },
  {
   "cell_type": "code",
   "execution_count": 4,
   "id": "ca19964f",
   "metadata": {},
   "outputs": [],
   "source": [
    "def quickSoup(url):\n",
    "    try:\n",
    "        header = {}\n",
    "        header['User-Agent'] = 'Mozilla/5.0 (Macintosh; Intel Mac OS X 10_10_1) AppleWebKit/537.36 (KHTML, like Gecko) Chrome/39.0.2171.95 Safari/537.36'\n",
    "        # page = requests.get(url, headers=header, timeout=10)\n",
    "        soup = BeautifulSoup(requests.get(url, headers=header, timeout=10).content, 'html.parser')\n",
    "        return(soup)\n",
    "    except Exception:\n",
    "        return(None)"
   ]
  },
  {
   "cell_type": "code",
   "execution_count": 5,
   "id": "2611fa28",
   "metadata": {},
   "outputs": [],
   "source": [
    "def getPaper(url):\n",
    "    try:\n",
    "        article = quickSoup(url)\n",
    "        t = article.get_text()\n",
    "        if \"The abstract you requested was not found\" in t:\n",
    "            return(\"{},\".format(url))\n",
    "        title = article.find('h1').get_text().replace(\"\\n\", \"\")\n",
    "        test_list = OrderedSet(t.split(\"\\n\"))\n",
    "        authors = test_list[0].replace(title, \"\").replace(\" :: SSRN\", \"\").replace(\" by \", \"\").replace(\", \", \":\")\n",
    "        date = [line.replace(\"Last revised: \", \"\") for line in test_list if \"Last revised: \" in line]\n",
    "        if date == []:\n",
    "            date = [line.replace(\"Posted: \", \"\") for line in test_list if \"Last revised: \" in line]\n",
    "        date = date[0]\n",
    "        text = t.split(\"Abstract\\n\")[1]\n",
    "        abstract = \"\\\"{}\\\"\".format(text.split(\"Suggested Citation:\")[0].replace(\"\\n\", \"\"))\n",
    "\n",
    "        # get paper statistics\n",
    "        stats = OrderedSet(article.find('div', attrs = {'class': 'box-paper-statics'}).get_text().split(\"\\n\"))\n",
    "        views, dl, rank, refs = \"\", \"\", \"\", \"\"\n",
    "        try:\n",
    "            views = stats[stats.index('Abstract Views') + 1].strip().replace(\",\", \"\")\n",
    "        except:\n",
    "            pass\n",
    "        try:\n",
    "            dl = stats[stats.index('Downloads') + 1].strip().replace(\",\", \"\")\n",
    "        except:\n",
    "            pass\n",
    "        try:\n",
    "            rank = stats[stats.index('rank') + 1].strip().replace(\",\", \"\")\n",
    "        except:\n",
    "            pass\n",
    "        try:\n",
    "            refs = stats[stats.index('References') + 1].strip().replace(\",\", \"\")\n",
    "        except:\n",
    "            pass\n",
    "        results = [url, \"\\\"{}\\\"\".format(title), abstract, authors, date, views, dl, rank, refs]\n",
    "        return(\",\".join(results))\n",
    "    except:\n",
    "        return(\"{},,,,,,,,\".format(url))\n"
   ]
  },
  {
   "cell_type": "code",
   "execution_count": 6,
   "id": "92849494",
   "metadata": {},
   "outputs": [],
   "source": [
    "def dummyscrape(start, stop):\n",
    "    numWorkers = cpu_count() * 12\n",
    "    print(numWorkers)\n",
    "    p = Pool(numWorkers)\n",
    "    linkList = [\"https://papers.ssrn.com/sol3/papers.cfm?abstract_id=\" + str(x) for x in range(start, stop)]\n",
    "\n",
    "    papers = p.map(getPaper, linkList)\n",
    "    p.terminate()\n",
    "    p.join()\n",
    "    writeString = \"\\n\".join(papers)\n",
    "    with open('test.csv', 'w+') as f:\n",
    "        f.write(writeString)\n"
   ]
  },
  {
   "cell_type": "code",
   "execution_count": 7,
   "id": "91aaf47d",
   "metadata": {},
   "outputs": [],
   "source": [
    "def scrape(start, stop):\n",
    "    numWorkers = cpu_count() * 12\n",
    "    p = Pool(numWorkers)\n",
    "    linkList = [\"https://papers.ssrn.com/sol3/papers.cfm?abstract_id={}\".format(str(x)) for x in range(start, stop)]\n",
    "\n",
    "    papers = p.map(getPaper, linkList)\n",
    "    p.terminate()\n",
    "    p.join()\n",
    "    writeString = \"\\n\".join(papers)\n",
    "    with open('ssrn-links.csv', 'a') as f:\n",
    "        f.write(writeString)"
   ]
  },
  {
   "cell_type": "code",
   "execution_count": null,
   "id": "05135170",
   "metadata": {},
   "outputs": [],
   "source": [
    "if __name__ == \"__main__\":\n",
    "    # import cProfile\n",
    "    # import scraper\n",
    "    # globals().update(vars(scraper))\n",
    "    # sys.modules['__main__'] = scraper\n",
    "    # dummyscrape(4000, 4100)\n",
    "    breaks = [10000 * x for x in range(179, 250)]\n",
    "    t = time.time()\n",
    "    for i in range(len(breaks)-1):\n",
    "        print(breaks[i])\n",
    "        b = time.time()\n",
    "        scrape(breaks[i], breaks[i+1])\n",
    "        print(\"TIME FOR 1000: \" + str(time.time() - b))\n",
    "        print(\"TIME SINCE START: \" + str(time.time() - t))"
   ]
  },
  {
   "cell_type": "code",
   "execution_count": null,
   "id": "b8948906",
   "metadata": {},
   "outputs": [],
   "source": []
  }
 ],
 "metadata": {
  "kernelspec": {
   "display_name": "Python 3 (ipykernel)",
   "language": "python",
   "name": "python3"
  },
  "language_info": {
   "codemirror_mode": {
    "name": "ipython",
    "version": 3
   },
   "file_extension": ".py",
   "mimetype": "text/x-python",
   "name": "python",
   "nbconvert_exporter": "python",
   "pygments_lexer": "ipython3",
   "version": "3.10.2"
  }
 },
 "nbformat": 4,
 "nbformat_minor": 5
}
